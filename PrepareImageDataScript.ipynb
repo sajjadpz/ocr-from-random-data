{
 "cells": [
  {
   "cell_type": "code",
   "execution_count": 19,
   "metadata": {
    "collapsed": true,
    "pycharm": {
     "is_executing": false
    }
   },
   "outputs": [],
   "source": [
    "from pathlib import Path\n",
    "import numpy as np\n",
    "from numpy import array\n",
    "import h5py\n",
    "import pandas as pd\n",
    "from keras.preprocessing.image import load_img\n",
    "from keras.preprocessing.image import img_to_array"
   ]
  },
  {
   "cell_type": "code",
   "execution_count": 20,
   "outputs": [
    {
     "data": {
      "text/plain": "                                         image  \\\n0                            broodiest_183.jpg   \n1  tendential gangliglia oppositeness_7617.jpg   \n2       limbate myotic authoritarians_5861.jpg   \n3        tiptops Hardenberg skin-deep_3153.jpg   \n4      brachypodine Goulder belemnitic_498.jpg   \n\n                                   text  confidence  \n0                           proodiest\\n          33  \n1  tendential gangliglia oppositeness\\n          92  \n2       limbate myotic authoritarians\\n          90  \n3        tiptops Hardenberg skin-deep\\n          91  \n4    brachypodine Geulder belernnitic\\n          62  ",
      "text/html": "<div>\n<style scoped>\n    .dataframe tbody tr th:only-of-type {\n        vertical-align: middle;\n    }\n\n    .dataframe tbody tr th {\n        vertical-align: top;\n    }\n\n    .dataframe thead th {\n        text-align: right;\n    }\n</style>\n<table border=\"1\" class=\"dataframe\">\n  <thead>\n    <tr style=\"text-align: right;\">\n      <th></th>\n      <th>image</th>\n      <th>text</th>\n      <th>confidence</th>\n    </tr>\n  </thead>\n  <tbody>\n    <tr>\n      <th>0</th>\n      <td>broodiest_183.jpg</td>\n      <td>proodiest\\n</td>\n      <td>33</td>\n    </tr>\n    <tr>\n      <th>1</th>\n      <td>tendential gangliglia oppositeness_7617.jpg</td>\n      <td>tendential gangliglia oppositeness\\n</td>\n      <td>92</td>\n    </tr>\n    <tr>\n      <th>2</th>\n      <td>limbate myotic authoritarians_5861.jpg</td>\n      <td>limbate myotic authoritarians\\n</td>\n      <td>90</td>\n    </tr>\n    <tr>\n      <th>3</th>\n      <td>tiptops Hardenberg skin-deep_3153.jpg</td>\n      <td>tiptops Hardenberg skin-deep\\n</td>\n      <td>91</td>\n    </tr>\n    <tr>\n      <th>4</th>\n      <td>brachypodine Goulder belemnitic_498.jpg</td>\n      <td>brachypodine Geulder belernnitic\\n</td>\n      <td>62</td>\n    </tr>\n  </tbody>\n</table>\n</div>"
     },
     "metadata": {},
     "output_type": "execute_result",
     "execution_count": 20
    }
   ],
   "source": [
    "#read data from csv\n",
    "data = pd.read_csv(\"tessdata.csv\", names=[\"image\", \"text\",\"confidence\"])\n",
    "\n",
    "#images i.e X\n",
    "X = data['image']\n",
    "#target variable\n",
    "y = data['confidence']\n",
    "\n",
    "data.head(5)"
   ],
   "metadata": {
    "collapsed": false,
    "pycharm": {
     "name": "#%%\n",
     "is_executing": false
    }
   }
  },
  {
   "cell_type": "code",
   "execution_count": 21,
   "outputs": [],
   "source": [
    "hdf5_dir = Path(\"hdf5/\")\n",
    "# hdf5_dir.mkdir(parents=True, exist_ok=True)"
   ],
   "metadata": {
    "collapsed": false,
    "pycharm": {
     "name": "#%%\n",
     "is_executing": false
    }
   }
  },
  {
   "cell_type": "code",
   "execution_count": 22,
   "outputs": [],
   "source": [
    "def create_data():\n",
    "    X_data, Y_data =  list(), list()  \n",
    "    for i, j in data.iterrows():\n",
    "        image_name, confidence = X[i], y[i]\n",
    "        image_id = image_name.split('.')[0]\n",
    "        filename = 'out' + '/' + image_name\n",
    "        image = load_img(filename, target_size=(50,50))\n",
    "        image = img_to_array(image)\n",
    "        X_data.append(image)\n",
    "        Y_data.append(confidence)\n",
    "    X_data, Y_data = array(X_data), array(Y_data)\n",
    "    return X_data, Y_data"
   ],
   "metadata": {
    "collapsed": false,
    "pycharm": {
     "name": "#%%\n",
     "is_executing": false
    }
   }
  },
  {
   "cell_type": "code",
   "execution_count": 23,
   "outputs": [
    {
     "name": "stdout",
     "text": [
      "(15000, 50, 50, 3) (15000,)\n"
     ],
     "output_type": "stream"
    }
   ],
   "source": [
    "X, Y = create_data()\n",
    "print(X.shape, Y.shape)"
   ],
   "metadata": {
    "collapsed": false,
    "pycharm": {
     "name": "#%%\n",
     "is_executing": false
    }
   }
  },
  {
   "cell_type": "code",
   "execution_count": 24,
   "outputs": [],
   "source": [
    "def save_images_h5():\n",
    "    num_images = len(X)\n",
    "    file = h5py.File(hdf5_dir / f\"{num_images}_.h5\", \"w\")\n",
    "    # Create a dataset in the file\n",
    "    dataset = file.create_dataset(\n",
    "        \"images\", np.shape(X), h5py.h5t.STD_U8BE, data=X)\n",
    "    \n",
    "    meta_set = file.create_dataset(\n",
    "        \"confidence\", np.shape(Y), h5py.h5t.STD_U8BE, data=Y\n",
    "    )\n",
    "    file.close()\n"
   ],
   "metadata": {
    "collapsed": false,
    "pycharm": {
     "name": "#%%\n",
     "is_executing": false
    }
   }
  },
  {
   "cell_type": "code",
   "execution_count": 25,
   "outputs": [],
   "source": [
    "save_images_h5()\n",
    "\n"
   ],
   "metadata": {
    "collapsed": false,
    "pycharm": {
     "name": "#%%\n",
     "is_executing": false
    }
   }
  },
  {
   "cell_type": "code",
   "execution_count": 26,
   "outputs": [
    {
     "name": "stdout",
     "text": [
      "(15000, 50, 50, 3) (15000,)\n"
     ],
     "output_type": "stream"
    }
   ],
   "source": [
    "def read_many_hdf5(num_images):\n",
    "    \"\"\" Reads image from HDF5.\n",
    "        Parameters:\n",
    "        ---------------\n",
    "        num_images   number of images to read\n",
    "\n",
    "        Returns:\n",
    "        ----------\n",
    "        images      images array, (N, 32, 32, 3) to be stored\n",
    "        labels      associated meta data, int label (N, 1)\n",
    "    \"\"\"\n",
    "    images, labels = [], []\n",
    "\n",
    "    # Open the HDF5 file\n",
    "    file = h5py.File(hdf5_dir / f\"{num_images}_.h5\", \"r+\")\n",
    "\n",
    "    images = np.array(file[\"/images\"]).astype(\"uint8\")\n",
    "    labels = np.array(file[\"/confidence\"]).astype(\"uint8\")\n",
    "\n",
    "    return images, labels\n",
    "\n",
    "X_data, Y_data = read_many_hdf5(15000)\n",
    "print(X_data.shape, Y_data.shape)"
   ],
   "metadata": {
    "collapsed": false,
    "pycharm": {
     "name": "#%%\n",
     "is_executing": false
    }
   }
  },
  {
   "cell_type": "code",
   "execution_count": null,
   "outputs": [],
   "source": [
    "\n"
   ],
   "metadata": {
    "collapsed": false,
    "pycharm": {
     "name": "#%%\n"
    }
   }
  }
 ],
 "metadata": {
  "kernelspec": {
   "display_name": "Python 3",
   "language": "python",
   "name": "python3"
  },
  "language_info": {
   "codemirror_mode": {
    "name": "ipython",
    "version": 2
   },
   "file_extension": ".py",
   "mimetype": "text/x-python",
   "name": "python",
   "nbconvert_exporter": "python",
   "pygments_lexer": "ipython2",
   "version": "2.7.6"
  },
  "pycharm": {
   "stem_cell": {
    "cell_type": "raw",
    "source": [],
    "metadata": {
     "collapsed": false
    }
   }
  }
 },
 "nbformat": 4,
 "nbformat_minor": 0
}