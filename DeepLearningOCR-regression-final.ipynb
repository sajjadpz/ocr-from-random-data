{
 "nbformat": 4,
 "nbformat_minor": 0,
 "metadata": {
  "language_info": {
   "name": "python",
   "codemirror_mode": {
    "name": "ipython",
    "version": 3
   },
   "version": "3.7.6-final"
  },
  "orig_nbformat": 2,
  "file_extension": ".py",
  "mimetype": "text/x-python",
  "name": "python",
  "npconvert_exporter": "python",
  "pygments_lexer": "ipython3",
  "version": 3,
  "kernelspec": {
   "name": "python37664bittestocrcondae20463e6e51e433db8421d10d87f6ccf",
   "language": "python",
   "display_name": "Python 3.7.6 64-bit ('testocr': conda)"
  },
  "pycharm": {
   "stem_cell": {
    "cell_type": "raw",
    "source": [],
    "metadata": {
     "collapsed": false
    }
   }
  },
  "colab": {
   "name": "DeepLearningOCR.ipynb",
   "provenance": []
  },
  "accelerator": "GPU"
 },
 "cells": [
  {
   "cell_type": "markdown",
   "metadata": {
    "id": "5N0RL1muNKbw",
    "colab_type": "text"
   },
   "source": [
    "**Final Regression Model for CNN**\n",
    "\n",
    "Model trained and tested on a total of 15k images of resolution 50x50x3."
   ]
  },
  {
   "cell_type": "code",
   "metadata": {
    "pycharm": {
     "is_executing": false
    },
    "id": "d-ABS921JZ27",
    "colab_type": "code",
    "colab": {
     "base_uri": "https://localhost:8080/",
     "height": 80
    },
    "outputId": "3a8b943d-6297-4e20-a20e-2fb2b692dfca"
   },
   "source": [
    "from keras.models import Sequential\n",
    "from keras.layers import Dense, Dropout, Flatten, BatchNormalization, Activation\n",
    "from keras.layers.convolutional import Conv2D, MaxPooling2D\n",
    "from keras.constraints import maxnorm\n",
    "from sklearn.model_selection import train_test_split\n",
    "import numpy as np\n",
    "import h5py\n",
    "from pathlib import Path"
   ],
   "execution_count": 1,
   "outputs": [
    {
     "output_type": "stream",
     "text": [
      "Using TensorFlow backend.\n"
     ],
     "name": "stderr"
    },
    {
     "output_type": "display_data",
     "data": {
      "text/html": [
       "<p style=\"color: red;\">\n",
       "The default version of TensorFlow in Colab will switch to TensorFlow 2.x on the 27th of March, 2020.<br>\n",
       "We recommend you <a href=\"https://www.tensorflow.org/guide/migrate\" target=\"_blank\">upgrade</a> now\n",
       "or ensure your notebook will continue to use TensorFlow 1.x via the <code>%tensorflow_version 1.x</code> magic:\n",
       "<a href=\"https://colab.research.google.com/notebooks/tensorflow_version.ipynb\" target=\"_blank\">more info</a>.</p>\n"
      ],
      "text/plain": [
       "<IPython.core.display.HTML object>"
      ]
     },
     "metadata": {
      "tags": []
     }
    }
   ]
  },
  {
   "cell_type": "code",
   "metadata": {
    "id": "epN2sldsJwil",
    "colab_type": "code",
    "colab": {
     "base_uri": "https://localhost:8080/",
     "height": 34
    },
    "outputId": "ed856ba1-02ba-4ba5-ca4d-eee5f1d08bf1"
   },
   "source": [
    "from google.colab import drive\n",
    "drive.mount('/content/drive')"
   ],
   "execution_count": 2,
   "outputs": [
    {
     "output_type": "stream",
     "text": [
      "Drive already mounted at /content/drive; to attempt to forcibly remount, call drive.mount(\"/content/drive\", force_remount=True).\n"
     ],
     "name": "stdout"
    }
   ]
  },
  {
   "cell_type": "markdown",
   "metadata": {
    "id": "s2imXjL4zAgv",
    "colab_type": "text"
   },
   "source": [
    "**Prepare Image data**"
   ]
  },
  {
   "cell_type": "code",
   "metadata": {
    "id": "7LWc846Ny_X7",
    "colab_type": "code",
    "colab": {
     "base_uri": "https://localhost:8080/",
     "height": 34
    },
    "outputId": "726f9906-587b-4030-f929-0956e2e84272"
   },
   "source": [
    "hdf5_dir = Path(\"/content/drive/My Drive/\")\n",
    "def read_many_hdf5(num_images):\n",
    "    \"\"\" Reads image from HDF5.\n",
    "        Parameters:\n",
    "        ---------------\n",
    "        num_images   number of images to read\n",
    "\n",
    "        Returns:\n",
    "        ----------\n",
    "        images      images array, (N, 32, 32, 3) to be stored\n",
    "        labels      associated meta data, int label (N, 1)\n",
    "    \"\"\"\n",
    "    images, labels = [], []\n",
    "\n",
    "    # Open the HDF5 file\n",
    "    file = h5py.File(hdf5_dir / f\"{num_images}_.h5\", \"r+\")\n",
    "\n",
    "    images = np.array(file[\"/images\"]).astype(\"uint8\")\n",
    "    labels = np.array(file[\"/confidence\"]).astype(\"uint8\")\n",
    "\n",
    "    return images, labels\n",
    "\n",
    "X_data, Y_data = read_many_hdf5(15000)\n",
    "print(X_data.shape, Y_data.shape)"
   ],
   "execution_count": 4,
   "outputs": [
    {
     "output_type": "stream",
     "text": [
      "(15000, 50, 50, 3) (15000,)\n"
     ],
     "name": "stdout"
    }
   ]
  },
  {
   "cell_type": "code",
   "metadata": {
    "id": "S_RQM5O5ztwQ",
    "colab_type": "code",
    "colab": {}
   },
   "source": [
    "X_data = X_data/255.0\n",
    "Y_data = np.where(Y_data < 1, 1, Y_data)"
   ],
   "execution_count": 0,
   "outputs": []
  },
  {
   "cell_type": "code",
   "metadata": {
    "pycharm": {
     "is_executing": true
    },
    "id": "weMYVo0eJZ35",
    "colab_type": "code",
    "colab": {}
   },
   "source": [
    "#X, Y = create_data()"
   ],
   "execution_count": 0,
   "outputs": []
  },
  {
   "cell_type": "code",
   "metadata": {
    "id": "3uPFNvrhkZi8",
    "colab_type": "code",
    "colab": {}
   },
   "source": [
    "X_train, X_test, y_train, y_test = train_test_split(X_data, Y_data, test_size=0.2)"
   ],
   "execution_count": 0,
   "outputs": []
  },
  {
   "cell_type": "code",
   "metadata": {
    "id": "KFJ4D4q1kzeR",
    "colab_type": "code",
    "colab": {
     "base_uri": "https://localhost:8080/",
     "height": 34
    },
    "outputId": "3cdaa224-6ace-4e7f-aa38-c59997ca046a"
   },
   "source": [
    "maxConfidence = y_train.max()\n",
    "print(maxConfidence)"
   ],
   "execution_count": 10,
   "outputs": [
    {
     "output_type": "stream",
     "text": [
      "96\n"
     ],
     "name": "stdout"
    }
   ]
  },
  {
   "cell_type": "code",
   "metadata": {
    "id": "OJIB2cmb9OGF",
    "colab_type": "code",
    "colab": {}
   },
   "source": [
    "y_train = y_train / maxConfidence\n",
    "y_test = y_test / maxConfidence"
   ],
   "execution_count": 0,
   "outputs": []
  },
  {
   "cell_type": "code",
   "metadata": {
    "id": "NxWqOL1gJZ4B",
    "colab_type": "code",
    "colab": {}
   },
   "source": [
    "### Creating Model\n",
    "def create_model():\n",
    "  model = Sequential()\n",
    "\n",
    "  model.add(Conv2D(32, (3, 3), input_shape=(50, 50, 3), activation='relu', padding='same'))\n",
    "  model.add(Activation('relu'))\n",
    "  model.add(Dropout(0.2))\n",
    "  model.add(BatchNormalization())\n",
    "\n",
    "  #2nd convolutional layer\n",
    "  model.add(Conv2D(64, (3, 3), padding='same'))\n",
    "  model.add(Activation('relu'))\n",
    "  model.add(MaxPooling2D(pool_size=(2, 2)))\n",
    "  model.add(Dropout(0.2))\n",
    "  model.add(BatchNormalization())\n",
    "\n",
    "  #3rd convolutional layer\n",
    "  model.add(Conv2D(128, (3, 3), padding='same'))\n",
    "  model.add(Activation('relu'))\n",
    "  model.add(Dropout(0.2))\n",
    "  model.add(BatchNormalization())\n",
    "\n",
    "  model.add(Flatten())\n",
    "  model.add(Dropout(0.2))\n",
    "\n",
    "  model.add(Dense(256, kernel_constraint=maxnorm(3)))\n",
    "  model.add(Activation('relu'))\n",
    "  model.add(Dropout(0.2))\n",
    "  model.add(BatchNormalization())\n",
    "      \n",
    "  model.add(Dense(128, kernel_constraint=maxnorm(3)))\n",
    "  model.add(Activation('relu'))\n",
    "  model.add(Dropout(0.2))\n",
    "  model.add(BatchNormalization())\n",
    "\n",
    "  #final layer should have as many neurons as there are classes. Since we have one class and it is regression problem so the value of final neuron will be between 0-99\n",
    "  model.add(Dense(1))\n",
    "\n",
    "  optimizer = 'adam'\n",
    "\n",
    "  model.compile(loss='mean_absolute_percentage_error', optimizer=optimizer)\n",
    "  return model\n"
   ],
   "execution_count": 0,
   "outputs": []
  },
  {
   "cell_type": "code",
   "metadata": {
    "id": "fJmLJMY0oSyb",
    "colab_type": "code",
    "colab": {}
   },
   "source": [
    "modelCNN = create_model()"
   ],
   "execution_count": 0,
   "outputs": []
  },
  {
   "cell_type": "code",
   "metadata": {
    "id": "ULZESq8FJZ4F",
    "colab_type": "code",
    "colab": {}
   },
   "source": [
    "print(modelCNN.summary())"
   ],
   "execution_count": 0,
   "outputs": []
  },
  {
   "cell_type": "code",
   "metadata": {
    "id": "FdTFMPG2lg-L",
    "colab_type": "code",
    "colab": {
     "base_uri": "https://localhost:8080/",
     "height": 1000
    },
    "outputId": "768f55ae-9c7e-48a6-ca2d-bc1a0bc69bc3"
   },
   "source": [
    "modelCNN.fit(X_train, y_train, validation_data=(X_test, y_test),epochs=100, batch_size=20)"
   ],
   "execution_count": 16,
   "outputs": [
    {
     "output_type": "stream",
     "text": [
      "WARNING:tensorflow:From /usr/local/lib/python3.6/dist-packages/keras/backend/tensorflow_backend.py:1033: The name tf.assign_add is deprecated. Please use tf.compat.v1.assign_add instead.\n",
      "\n",
      "WARNING:tensorflow:From /usr/local/lib/python3.6/dist-packages/keras/backend/tensorflow_backend.py:1020: The name tf.assign is deprecated. Please use tf.compat.v1.assign instead.\n",
      "\n",
      "Train on 12000 samples, validate on 3000 samples\n",
      "Epoch 1/100\n",
      "12000/12000 [==============================] - 17s 1ms/step - loss: 735.4219 - val_loss: 421.0069\n",
      "Epoch 2/100\n",
      "12000/12000 [==============================] - 14s 1ms/step - loss: 273.1254 - val_loss: 1169.6513\n",
      "Epoch 3/100\n",
      "12000/12000 [==============================] - 14s 1ms/step - loss: 222.8041 - val_loss: 783.0967\n",
      "Epoch 4/100\n",
      "12000/12000 [==============================] - 14s 1ms/step - loss: 174.6318 - val_loss: 17099.2102\n",
      "Epoch 5/100\n",
      "12000/12000 [==============================] - 14s 1ms/step - loss: 162.8014 - val_loss: 213.1261\n",
      "Epoch 6/100\n",
      "12000/12000 [==============================] - 14s 1ms/step - loss: 163.1266 - val_loss: 3746.6853\n",
      "Epoch 7/100\n",
      "12000/12000 [==============================] - 14s 1ms/step - loss: 135.4540 - val_loss: 51626.0718\n",
      "Epoch 8/100\n",
      "12000/12000 [==============================] - 14s 1ms/step - loss: 126.3613 - val_loss: 246.1026\n",
      "Epoch 9/100\n",
      "12000/12000 [==============================] - 14s 1ms/step - loss: 103.3691 - val_loss: 271.6992\n",
      "Epoch 10/100\n",
      "12000/12000 [==============================] - 14s 1ms/step - loss: 102.1736 - val_loss: 2006.0969\n",
      "Epoch 11/100\n",
      "12000/12000 [==============================] - 14s 1ms/step - loss: 108.7600 - val_loss: 37066.6114\n",
      "Epoch 12/100\n",
      "12000/12000 [==============================] - 14s 1ms/step - loss: 89.8509 - val_loss: 118901.4055\n",
      "Epoch 13/100\n",
      "12000/12000 [==============================] - 14s 1ms/step - loss: 86.9987 - val_loss: 1612596.3789\n",
      "Epoch 14/100\n",
      "12000/12000 [==============================] - 14s 1ms/step - loss: 96.3371 - val_loss: 163.2285\n",
      "Epoch 15/100\n",
      "12000/12000 [==============================] - 14s 1ms/step - loss: 90.3950 - val_loss: 128.2411\n",
      "Epoch 16/100\n",
      "12000/12000 [==============================] - 14s 1ms/step - loss: 84.0267 - val_loss: 13417.4869\n",
      "Epoch 17/100\n",
      "12000/12000 [==============================] - 13s 1ms/step - loss: 76.8608 - val_loss: 2077.2851\n",
      "Epoch 18/100\n",
      "12000/12000 [==============================] - 14s 1ms/step - loss: 78.1331 - val_loss: 322.0765\n",
      "Epoch 19/100\n",
      "12000/12000 [==============================] - 13s 1ms/step - loss: 73.8226 - val_loss: 11205.5615\n",
      "Epoch 20/100\n",
      "12000/12000 [==============================] - 13s 1ms/step - loss: 73.3308 - val_loss: 7202.7123\n",
      "Epoch 21/100\n",
      "12000/12000 [==============================] - 13s 1ms/step - loss: 78.7803 - val_loss: 109.0559\n",
      "Epoch 22/100\n",
      "12000/12000 [==============================] - 13s 1ms/step - loss: 72.3922 - val_loss: 34774.0138\n",
      "Epoch 23/100\n",
      "12000/12000 [==============================] - 13s 1ms/step - loss: 72.7054 - val_loss: 28098.5632\n",
      "Epoch 24/100\n",
      "12000/12000 [==============================] - 13s 1ms/step - loss: 76.1321 - val_loss: 57880.6026\n",
      "Epoch 25/100\n",
      "12000/12000 [==============================] - 14s 1ms/step - loss: 73.7517 - val_loss: 22559.5378\n",
      "Epoch 26/100\n",
      "12000/12000 [==============================] - 13s 1ms/step - loss: 75.4338 - val_loss: 215.3481\n",
      "Epoch 27/100\n",
      "12000/12000 [==============================] - 13s 1ms/step - loss: 69.6170 - val_loss: 357946.8530\n",
      "Epoch 28/100\n",
      "12000/12000 [==============================] - 13s 1ms/step - loss: 73.7657 - val_loss: 1066605.8206\n",
      "Epoch 29/100\n",
      "12000/12000 [==============================] - 13s 1ms/step - loss: 75.7705 - val_loss: 3570.6045\n",
      "Epoch 30/100\n",
      "12000/12000 [==============================] - 13s 1ms/step - loss: 71.3057 - val_loss: 5807.5285\n",
      "Epoch 31/100\n",
      "12000/12000 [==============================] - 13s 1ms/step - loss: 72.4716 - val_loss: 180957.4920\n",
      "Epoch 32/100\n",
      "12000/12000 [==============================] - 14s 1ms/step - loss: 75.2557 - val_loss: 94510.3536\n",
      "Epoch 33/100\n",
      "12000/12000 [==============================] - 14s 1ms/step - loss: 89.2884 - val_loss: 229.4455\n",
      "Epoch 34/100\n",
      "12000/12000 [==============================] - 13s 1ms/step - loss: 84.3727 - val_loss: 138.5792\n",
      "Epoch 35/100\n",
      "12000/12000 [==============================] - 13s 1ms/step - loss: 77.3647 - val_loss: 3469.5154\n",
      "Epoch 36/100\n",
      "12000/12000 [==============================] - 13s 1ms/step - loss: 75.6454 - val_loss: 1732.3142\n",
      "Epoch 37/100\n",
      "12000/12000 [==============================] - 14s 1ms/step - loss: 74.0734 - val_loss: 12449.2435\n",
      "Epoch 38/100\n",
      "12000/12000 [==============================] - 13s 1ms/step - loss: 73.7932 - val_loss: 3502.3172\n",
      "Epoch 39/100\n",
      "12000/12000 [==============================] - 13s 1ms/step - loss: 69.2234 - val_loss: 9039.6260\n",
      "Epoch 40/100\n",
      "12000/12000 [==============================] - 13s 1ms/step - loss: 68.3905 - val_loss: 44826.1404\n",
      "Epoch 41/100\n",
      "12000/12000 [==============================] - 13s 1ms/step - loss: 68.8857 - val_loss: 25815.6201\n",
      "Epoch 42/100\n",
      "12000/12000 [==============================] - 13s 1ms/step - loss: 65.1986 - val_loss: 151195.2289\n",
      "Epoch 43/100\n",
      "12000/12000 [==============================] - 13s 1ms/step - loss: 75.1079 - val_loss: 77147.7217\n",
      "Epoch 44/100\n",
      "12000/12000 [==============================] - 14s 1ms/step - loss: 68.9982 - val_loss: 68046.9082\n",
      "Epoch 45/100\n",
      "12000/12000 [==============================] - 13s 1ms/step - loss: 69.4092 - val_loss: 1063882.2734\n",
      "Epoch 46/100\n",
      "12000/12000 [==============================] - 13s 1ms/step - loss: 71.5655 - val_loss: 57653.8827\n",
      "Epoch 47/100\n",
      "12000/12000 [==============================] - 14s 1ms/step - loss: 73.4058 - val_loss: 31064.6129\n",
      "Epoch 48/100\n",
      "12000/12000 [==============================] - 13s 1ms/step - loss: 76.9081 - val_loss: 948.9090\n",
      "Epoch 49/100\n",
      "12000/12000 [==============================] - 13s 1ms/step - loss: 72.5680 - val_loss: 408995.0676\n",
      "Epoch 50/100\n",
      "12000/12000 [==============================] - 13s 1ms/step - loss: 69.7001 - val_loss: 11156.6586\n",
      "Epoch 51/100\n",
      "12000/12000 [==============================] - 13s 1ms/step - loss: 71.6269 - val_loss: 7283.1732\n",
      "Epoch 52/100\n",
      "12000/12000 [==============================] - 13s 1ms/step - loss: 70.3424 - val_loss: 122020.4412\n",
      "Epoch 53/100\n",
      "12000/12000 [==============================] - 13s 1ms/step - loss: 72.1262 - val_loss: 3085.3298\n",
      "Epoch 54/100\n",
      "12000/12000 [==============================] - 13s 1ms/step - loss: 70.1977 - val_loss: 11244.1239\n",
      "Epoch 55/100\n",
      "12000/12000 [==============================] - 13s 1ms/step - loss: 64.8231 - val_loss: 75828.2177\n",
      "Epoch 56/100\n",
      "12000/12000 [==============================] - 13s 1ms/step - loss: 68.5159 - val_loss: 365801.1003\n",
      "Epoch 57/100\n",
      "12000/12000 [==============================] - 13s 1ms/step - loss: 72.5704 - val_loss: 209854.0072\n",
      "Epoch 58/100\n",
      "12000/12000 [==============================] - 13s 1ms/step - loss: 67.5731 - val_loss: 21314.9022\n",
      "Epoch 59/100\n",
      "12000/12000 [==============================] - 13s 1ms/step - loss: 73.5854 - val_loss: 4973168.5790\n",
      "Epoch 60/100\n",
      "12000/12000 [==============================] - 13s 1ms/step - loss: 77.6354 - val_loss: 520692.3240\n",
      "Epoch 61/100\n",
      "12000/12000 [==============================] - 13s 1ms/step - loss: 80.3249 - val_loss: 378866.7239\n",
      "Epoch 62/100\n",
      "12000/12000 [==============================] - 13s 1ms/step - loss: 73.6656 - val_loss: 96599.7472\n",
      "Epoch 63/100\n",
      "12000/12000 [==============================] - 13s 1ms/step - loss: 72.7141 - val_loss: 167.9080\n",
      "Epoch 64/100\n",
      "12000/12000 [==============================] - 13s 1ms/step - loss: 79.1142 - val_loss: 577982.9751\n",
      "Epoch 65/100\n",
      "12000/12000 [==============================] - 13s 1ms/step - loss: 74.4055 - val_loss: 65999.9890\n",
      "Epoch 66/100\n",
      "12000/12000 [==============================] - 13s 1ms/step - loss: 70.6925 - val_loss: 5799.5142\n",
      "Epoch 67/100\n",
      "12000/12000 [==============================] - 13s 1ms/step - loss: 79.9577 - val_loss: 840000.5625\n",
      "Epoch 68/100\n",
      "12000/12000 [==============================] - 13s 1ms/step - loss: 82.8053 - val_loss: 1277215.7534\n",
      "Epoch 69/100\n",
      "12000/12000 [==============================] - 13s 1ms/step - loss: 76.2738 - val_loss: 22754137.2117\n",
      "Epoch 70/100\n",
      "12000/12000 [==============================] - 13s 1ms/step - loss: 78.7032 - val_loss: 25431.8528\n",
      "Epoch 71/100\n",
      "12000/12000 [==============================] - 13s 1ms/step - loss: 79.6630 - val_loss: 858990.6137\n",
      "Epoch 72/100\n",
      "12000/12000 [==============================] - 13s 1ms/step - loss: 79.9067 - val_loss: 98.1412\n",
      "Epoch 73/100\n",
      "12000/12000 [==============================] - 13s 1ms/step - loss: 83.0692 - val_loss: 3458.5408\n",
      "Epoch 74/100\n",
      "12000/12000 [==============================] - 13s 1ms/step - loss: 76.5869 - val_loss: 2981.6176\n",
      "Epoch 75/100\n",
      "12000/12000 [==============================] - 13s 1ms/step - loss: 79.9874 - val_loss: 3737.7643\n",
      "Epoch 76/100\n",
      "12000/12000 [==============================] - 13s 1ms/step - loss: 75.4230 - val_loss: 2971.7137\n",
      "Epoch 77/100\n",
      "12000/12000 [==============================] - 13s 1ms/step - loss: 75.7900 - val_loss: 921.3678\n",
      "Epoch 78/100\n",
      "12000/12000 [==============================] - 13s 1ms/step - loss: 74.7946 - val_loss: 6717.2373\n",
      "Epoch 79/100\n",
      "12000/12000 [==============================] - 13s 1ms/step - loss: 71.2003 - val_loss: 2438.5503\n",
      "Epoch 80/100\n",
      "12000/12000 [==============================] - 13s 1ms/step - loss: 81.3073 - val_loss: 3686.1593\n",
      "Epoch 81/100\n",
      "12000/12000 [==============================] - 13s 1ms/step - loss: 72.1336 - val_loss: 494.6734\n",
      "Epoch 82/100\n",
      "12000/12000 [==============================] - 13s 1ms/step - loss: 73.6336 - val_loss: 305.3495\n",
      "Epoch 83/100\n",
      "12000/12000 [==============================] - 14s 1ms/step - loss: 70.7395 - val_loss: 27831.7932\n",
      "Epoch 84/100\n",
      "12000/12000 [==============================] - 13s 1ms/step - loss: 69.0051 - val_loss: 975.4235\n",
      "Epoch 85/100\n",
      "12000/12000 [==============================] - 13s 1ms/step - loss: 73.2597 - val_loss: 162.6120\n",
      "Epoch 86/100\n",
      "12000/12000 [==============================] - 13s 1ms/step - loss: 77.4922 - val_loss: 1126.1253\n",
      "Epoch 87/100\n",
      "12000/12000 [==============================] - 13s 1ms/step - loss: 72.0771 - val_loss: 75.5802\n",
      "Epoch 88/100\n",
      "12000/12000 [==============================] - 13s 1ms/step - loss: 69.0017 - val_loss: 76.9845\n",
      "Epoch 89/100\n",
      "12000/12000 [==============================] - 13s 1ms/step - loss: 71.1845 - val_loss: 2294.3325\n",
      "Epoch 90/100\n",
      "12000/12000 [==============================] - 13s 1ms/step - loss: 75.7530 - val_loss: 116131.1396\n",
      "Epoch 91/100\n",
      "12000/12000 [==============================] - 13s 1ms/step - loss: 73.8208 - val_loss: 128763.0349\n",
      "Epoch 92/100\n",
      "12000/12000 [==============================] - 13s 1ms/step - loss: 70.9526 - val_loss: 88918.3757\n",
      "Epoch 93/100\n",
      "12000/12000 [==============================] - 13s 1ms/step - loss: 64.1057 - val_loss: 49736.3661\n",
      "Epoch 94/100\n",
      "12000/12000 [==============================] - 13s 1ms/step - loss: 66.5868 - val_loss: 709.4515\n",
      "Epoch 95/100\n",
      "12000/12000 [==============================] - 13s 1ms/step - loss: 66.1504 - val_loss: 61428.5988\n",
      "Epoch 96/100\n",
      "12000/12000 [==============================] - 13s 1ms/step - loss: 69.7614 - val_loss: 83350.1572\n",
      "Epoch 97/100\n",
      "12000/12000 [==============================] - 13s 1ms/step - loss: 74.5233 - val_loss: 11872.4925\n",
      "Epoch 98/100\n",
      "12000/12000 [==============================] - 13s 1ms/step - loss: 75.1552 - val_loss: 656621.5297\n",
      "Epoch 99/100\n",
      "12000/12000 [==============================] - 13s 1ms/step - loss: 74.2110 - val_loss: 80.9247\n",
      "Epoch 100/100\n",
      "12000/12000 [==============================] - 13s 1ms/step - loss: 78.0518 - val_loss: 1866.3981\n"
     ],
     "name": "stdout"
    },
    {
     "output_type": "execute_result",
     "data": {
      "text/plain": [
       "<keras.callbacks.History at 0x7f7be4109eb8>"
      ]
     },
     "metadata": {
      "tags": []
     },
     "execution_count": 16
    }
   ]
  },
  {
   "cell_type": "code",
   "metadata": {
    "id": "Cna9cLkzpo5D",
    "colab_type": "code",
    "colab": {
     "base_uri": "https://localhost:8080/",
     "height": 34
    },
    "outputId": "a2dc7603-967b-4921-c7c8-0efc3381be35"
   },
   "source": [
    "print(\"[INFO] predicting image confidences...\")\n",
    "preds = modelCNN.predict(X_test)"
   ],
   "execution_count": 17,
   "outputs": [
    {
     "output_type": "stream",
     "text": [
      "[INFO] predicting image confidences...\n"
     ],
     "name": "stdout"
    }
   ]
  },
  {
   "cell_type": "code",
   "metadata": {
    "id": "W_Cjl_6np7f1",
    "colab_type": "code",
    "colab": {}
   },
   "source": [
    "diff = preds.flatten() - y_test\n",
    "percentDiff = (diff / y_test) * 100\n",
    "absPercentDiff = np.abs(percentDiff)"
   ],
   "execution_count": 0,
   "outputs": []
  },
  {
   "cell_type": "code",
   "metadata": {
    "id": "QWkUB-hrszik",
    "colab_type": "code",
    "colab": {}
   },
   "source": [
    "mean = np.mean(absPercentDiff)\n",
    "std = np.std(absPercentDiff)"
   ],
   "execution_count": 0,
   "outputs": []
  },
  {
   "cell_type": "code",
   "metadata": {
    "id": "fAmRbPaGtAJh",
    "colab_type": "code",
    "colab": {
     "base_uri": "https://localhost:8080/",
     "height": 51
    },
    "outputId": "9876dd2c-4259-4fc7-b1d4-f9d54203ff04"
   },
   "source": [
    "print(\"[INFO] avg. confidence: {}, std confidence: {}\".format(\n",
    "\tY_data.mean(),\n",
    "\tY_data.std()))\n",
    "print(\"[INFO] mean: {:.2f}%, std: {:.2f}%\".format(mean, std))"
   ],
   "execution_count": 21,
   "outputs": [
    {
     "output_type": "stream",
     "text": [
      "[INFO] avg. confidence: 71.57886666666667, std confidence: 33.123225185895706\n",
      "[INFO] mean: 1866.40%, std: 25999.79%\n"
     ],
     "name": "stdout"
    }
   ]
  },
  {
   "cell_type": "markdown",
   "metadata": {
    "id": "DFBy21zCaeU7",
    "colab_type": "text",
    "pycharm": {
     "name": "#%% md\n"
    }
   },
   "source": [
    "Output\n",
    "\n",
    "[INFO] avg. confidence: 71.9118, std confidence: 32.74083109452171\n",
    "[INFO] mean: 87.02%, std: 31.94%\n",
    "\n",
    "========\n",
    "\n",
    "[INFO] avg. confidence: 71.57886666666667, std confidence: 33.123225185895706\n",
    "[INFO] mean: 1866.40%, std: 25999.79%"
   ]
  }
 ]
}