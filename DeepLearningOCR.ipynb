{
 "nbformat": 4,
 "nbformat_minor": 2,
 "metadata": {
  "language_info": {
   "name": "python",
   "codemirror_mode": {
    "name": "ipython",
    "version": 3
   },
   "version": "3.7.6-final"
  },
  "orig_nbformat": 2,
  "file_extension": ".py",
  "mimetype": "text/x-python",
  "name": "python",
  "npconvert_exporter": "python",
  "pygments_lexer": "ipython3",
  "version": 3,
  "kernelspec": {
   "name": "python37664bittestocrcondae20463e6e51e433db8421d10d87f6ccf",
   "language": "python",
   "display_name": "Python 3.7.6 64-bit ('testocr': conda)"
  },
  "pycharm": {
   "stem_cell": {
    "cell_type": "raw",
    "source": [],
    "metadata": {
     "collapsed": false
    }
   }
  }
 },
 "cells": [
  {
   "cell_type": "code",
   "execution_count": 1,
   "metadata": {
    "pycharm": {
     "is_executing": false
    }
   },
   "outputs": [
    {
     "name": "stderr",
     "text": [
      "Using TensorFlow backend.\n",
      "/Users/sajjadpervaiz/anaconda3/envs/testocr/lib/python3.7/site-packages/tensorflow/python/framework/dtypes.py:526: FutureWarning: Passing (type, 1) or '1type' as a synonym of type is deprecated; in a future version of numpy, it will be understood as (type, (1,)) / '(1,)type'.\n",
      "  _np_qint8 = np.dtype([(\"qint8\", np.int8, 1)])\n",
      "/Users/sajjadpervaiz/anaconda3/envs/testocr/lib/python3.7/site-packages/tensorflow/python/framework/dtypes.py:527: FutureWarning: Passing (type, 1) or '1type' as a synonym of type is deprecated; in a future version of numpy, it will be understood as (type, (1,)) / '(1,)type'.\n",
      "  _np_quint8 = np.dtype([(\"quint8\", np.uint8, 1)])\n",
      "/Users/sajjadpervaiz/anaconda3/envs/testocr/lib/python3.7/site-packages/tensorflow/python/framework/dtypes.py:528: FutureWarning: Passing (type, 1) or '1type' as a synonym of type is deprecated; in a future version of numpy, it will be understood as (type, (1,)) / '(1,)type'.\n",
      "  _np_qint16 = np.dtype([(\"qint16\", np.int16, 1)])\n",
      "/Users/sajjadpervaiz/anaconda3/envs/testocr/lib/python3.7/site-packages/tensorflow/python/framework/dtypes.py:529: FutureWarning: Passing (type, 1) or '1type' as a synonym of type is deprecated; in a future version of numpy, it will be understood as (type, (1,)) / '(1,)type'.\n",
      "  _np_quint16 = np.dtype([(\"quint16\", np.uint16, 1)])\n",
      "/Users/sajjadpervaiz/anaconda3/envs/testocr/lib/python3.7/site-packages/tensorflow/python/framework/dtypes.py:530: FutureWarning: Passing (type, 1) or '1type' as a synonym of type is deprecated; in a future version of numpy, it will be understood as (type, (1,)) / '(1,)type'.\n",
      "  _np_qint32 = np.dtype([(\"qint32\", np.int32, 1)])\n",
      "/Users/sajjadpervaiz/anaconda3/envs/testocr/lib/python3.7/site-packages/tensorflow/python/framework/dtypes.py:535: FutureWarning: Passing (type, 1) or '1type' as a synonym of type is deprecated; in a future version of numpy, it will be understood as (type, (1,)) / '(1,)type'.\n",
      "  np_resource = np.dtype([(\"resource\", np.ubyte, 1)])\n"
     ],
     "output_type": "stream"
    }
   ],
   "source": [
    "import numpy\n",
    "from keras.models import Sequential\n",
    "from keras.layers import Dense, Dropout, Flatten, BatchNormalization, Activation\n",
    "from keras.layers.convolutional import Conv2D, MaxPooling2D\n",
    "from keras.constraints import maxnorm\n",
    "from keras.utils import np_utils\n",
    "import pandas as pd\n",
    "from keras.preprocessing.image import load_img\n",
    "from keras.preprocessing.image import img_to_array\n",
    "from sklearn.model_selection import train_test_split\n",
    "from os import listdir\n",
    "from numpy import array"
   ]
  },
  {
   "cell_type": "code",
   "execution_count": 2,
   "metadata": {},
   "outputs": [
    {
     "output_type": "stream",
     "name": "stdout",
     "text": "Loaded Images: 14993\n"
    }
   ],
   "source": [
    "def load_photos(directory):\n",
    "\timages = dict()\n",
    "\tfor name in listdir(directory):\n",
    "\t\tif name.endswith(\".jpg\"):\n",
    "            # load an image from file\n",
    "\t\t    filename = directory + '/' + name\n",
    "\t\t    image = load_img(filename, target_size=(50, 50))\n",
    "\t\t# convert the image pixels to a numpy array\n",
    "\t\t    image = img_to_array(image)\n",
    "\t\t# get image id\n",
    "\t\t    image_id = name.split('.')[0]\n",
    "\t\t    images[image_id] = image\n",
    "\treturn images\n",
    " \n",
    "# load images\n",
    "directory = 'out'\n",
    "#images = load_photos(directory)\n",
    "#print('Loaded Images: %d' % len(images))"
   ]
  },
  {
   "cell_type": "code",
   "execution_count": 2,
   "metadata": {
    "pycharm": {
     "is_executing": false
    }
   },
   "outputs": [
    {
     "data": {
      "text/plain": "                                         image  \\\n0                            broodiest_183.jpg   \n1  tendential gangliglia oppositeness_7617.jpg   \n2       limbate myotic authoritarians_5861.jpg   \n3        tiptops Hardenberg skin-deep_3153.jpg   \n4      brachypodine Goulder belemnitic_498.jpg   \n\n                                   text  confidence  \n0                           proodiest\\n          33  \n1  tendential gangliglia oppositeness\\n          92  \n2       limbate myotic authoritarians\\n          90  \n3        tiptops Hardenberg skin-deep\\n          91  \n4    brachypodine Geulder belernnitic\\n          62  ",
      "text/html": "<div>\n<style scoped>\n    .dataframe tbody tr th:only-of-type {\n        vertical-align: middle;\n    }\n\n    .dataframe tbody tr th {\n        vertical-align: top;\n    }\n\n    .dataframe thead th {\n        text-align: right;\n    }\n</style>\n<table border=\"1\" class=\"dataframe\">\n  <thead>\n    <tr style=\"text-align: right;\">\n      <th></th>\n      <th>image</th>\n      <th>text</th>\n      <th>confidence</th>\n    </tr>\n  </thead>\n  <tbody>\n    <tr>\n      <th>0</th>\n      <td>broodiest_183.jpg</td>\n      <td>proodiest\\n</td>\n      <td>33</td>\n    </tr>\n    <tr>\n      <th>1</th>\n      <td>tendential gangliglia oppositeness_7617.jpg</td>\n      <td>tendential gangliglia oppositeness\\n</td>\n      <td>92</td>\n    </tr>\n    <tr>\n      <th>2</th>\n      <td>limbate myotic authoritarians_5861.jpg</td>\n      <td>limbate myotic authoritarians\\n</td>\n      <td>90</td>\n    </tr>\n    <tr>\n      <th>3</th>\n      <td>tiptops Hardenberg skin-deep_3153.jpg</td>\n      <td>tiptops Hardenberg skin-deep\\n</td>\n      <td>91</td>\n    </tr>\n    <tr>\n      <th>4</th>\n      <td>brachypodine Goulder belemnitic_498.jpg</td>\n      <td>brachypodine Geulder belernnitic\\n</td>\n      <td>62</td>\n    </tr>\n  </tbody>\n</table>\n</div>"
     },
     "metadata": {},
     "output_type": "execute_result",
     "execution_count": 2
    }
   ],
   "source": [
    "#read data from csv\n",
    "data = pd.read_csv(\"tessdata.csv\", names=[\"image\", \"text\",\"confidence\"])\n",
    "\n",
    "#images i.e X\n",
    "X = data['image']\n",
    "#target variable\n",
    "y = data['confidence']\n",
    "\n",
    "data.head(5)"
   ]
  },
  {
   "cell_type": "code",
   "execution_count": 4,
   "metadata": {},
   "outputs": [],
   "source": [
    "# def create_data():\n",
    "#     X_data, Y_data =  list(), list()  \n",
    "#     for i, j in data.iterrows():\n",
    "#         image_id, confidence = X[i].split('.')[0], y[i]\n",
    "#         image = images[image_id]\n",
    "#         X_data.append(image)\n",
    "#         Y_data.append(confidence)\n",
    "#     X_data, Y_data = array(X_data), array(Y_data)\n",
    "#     return X_data, Y_data"
   ]
  },
  {
   "cell_type": "code",
   "execution_count": 3,
   "metadata": {
    "pycharm": {
     "is_executing": false
    }
   },
   "outputs": [],
   "source": [
    "def create_data():\n",
    "    X_data, Y_data =  list(), list()  \n",
    "    for i, j in data.head(10000).iterrows():\n",
    "        image_name, confidence = X[i], y[i]\n",
    "        image_id = image_name.split('.')[0]\n",
    "        filename = 'out' + '/' + image_name\n",
    "        image = load_img(filename, target_size=(50,50))\n",
    "        image = img_to_array(image)\n",
    "        X_data.append(image)\n",
    "        Y_data.append(confidence)\n",
    "    X_data, Y_data = array(X_data), array(Y_data)\n",
    "    return X_data, Y_data"
   ]
  },
  {
   "cell_type": "code",
   "execution_count": null,
   "metadata": {
    "pycharm": {
     "is_executing": true
    }
   },
   "outputs": [],
   "source": [
    "a, b = create_data()"
   ]
  },
  {
   "cell_type": "code",
   "execution_count": 1,
   "metadata": {},
   "outputs": [
    {
     "output_type": "error",
     "ename": "NameError",
     "evalue": "name 'train_test_split' is not defined",
     "traceback": [
      "\u001b[0;31m---------------------------------------------------------------------------\u001b[0m",
      "\u001b[0;31mNameError\u001b[0m                                 Traceback (most recent call last)",
      "\u001b[0;32m<ipython-input-1-7a933e1c12c2>\u001b[0m in \u001b[0;36m<module>\u001b[0;34m\u001b[0m\n\u001b[1;32m      1\u001b[0m \u001b[0;31m#Split data into training and testing\u001b[0m\u001b[0;34m\u001b[0m\u001b[0;34m\u001b[0m\u001b[0;34m\u001b[0m\u001b[0m\n\u001b[0;32m----> 2\u001b[0;31m \u001b[0mX_train\u001b[0m\u001b[0;34m,\u001b[0m \u001b[0mX_test\u001b[0m\u001b[0;34m,\u001b[0m \u001b[0my_train\u001b[0m\u001b[0;34m,\u001b[0m \u001b[0my_test\u001b[0m \u001b[0;34m=\u001b[0m \u001b[0mtrain_test_split\u001b[0m\u001b[0;34m(\u001b[0m\u001b[0ma\u001b[0m\u001b[0;34m,\u001b[0m \u001b[0mb\u001b[0m\u001b[0;34m,\u001b[0m \u001b[0mtest_size\u001b[0m\u001b[0;34m=\u001b[0m\u001b[0;36m0.2\u001b[0m\u001b[0;34m)\u001b[0m\u001b[0;34m\u001b[0m\u001b[0;34m\u001b[0m\u001b[0m\n\u001b[0m\u001b[1;32m      3\u001b[0m \u001b[0;34m\u001b[0m\u001b[0m\n\u001b[1;32m      4\u001b[0m \u001b[0mprint\u001b[0m\u001b[0;34m(\u001b[0m\u001b[0mX_train\u001b[0m\u001b[0;34m.\u001b[0m\u001b[0mshape\u001b[0m\u001b[0;34m,\u001b[0m \u001b[0my_train\u001b[0m\u001b[0;34m.\u001b[0m\u001b[0mshape\u001b[0m\u001b[0;34m)\u001b[0m\u001b[0;34m\u001b[0m\u001b[0;34m\u001b[0m\u001b[0m\n\u001b[1;32m      5\u001b[0m \u001b[0mprint\u001b[0m\u001b[0;34m(\u001b[0m\u001b[0mX_test\u001b[0m\u001b[0;34m.\u001b[0m\u001b[0mshape\u001b[0m\u001b[0;34m,\u001b[0m \u001b[0my_test\u001b[0m\u001b[0;34m.\u001b[0m\u001b[0mshape\u001b[0m\u001b[0;34m)\u001b[0m\u001b[0;34m\u001b[0m\u001b[0;34m\u001b[0m\u001b[0m\n",
      "\u001b[0;31mNameError\u001b[0m: name 'train_test_split' is not defined"
     ]
    }
   ],
   "source": [
    "#Split data into training and testing\n",
    "X_train, X_test, y_train, y_test = train_test_split(a, b, test_size=0.2)\n",
    "\n",
    "y_train = np_utils.to_categorical(y_train)\n",
    "y_test = np_utils.to_categorical(y_test)\n",
    "\n",
    "class_num = y_test.shape[1]\n",
    "\n",
    "print(\"class_num\", class_num)\n",
    "\n",
    "print(X_train.shape, y_train.shape)\n",
    "print(X_test.shape, y_test.shape)\n",
    "\n",
    "del a"
   ]
  },
  {
   "cell_type": "code",
   "execution_count": 4,
   "metadata": {},
   "outputs": [
    {
     "output_type": "stream",
     "name": "stdout",
     "text": "WARNING:tensorflow:From /Users/sajjadpervaiz/anaconda3/envs/testocr/lib/python3.7/site-packages/tensorflow/python/ops/resource_variable_ops.py:435: colocate_with (from tensorflow.python.framework.ops) is deprecated and will be removed in a future version.\nInstructions for updating:\nColocations handled automatically by placer.\n"
    }
   ],
   "source": [
    "### Creating Model\n",
    "model = Sequential()\n",
    "\n",
    "#model.add(Conv2D(32, (3, 3), input_shape=X_train.shape[1:], padding='same'))\n",
    "model.add(Conv2D(32, (3, 3), input_shape=(50, 50, 3), activation='relu', padding='same'))\n",
    "model.add(Activation('relu'))\n",
    "\n",
    "#model.add(Conv2D(224, (3, 3), input_shape=(3, 224, 224), activation='relu', padding='same'))\n",
    "\n",
    "model.add(Dropout(0.2))\n",
    "\n",
    "model.add(BatchNormalization())\n",
    "\n",
    "#2nd convolutional layer\n",
    "model.add(Conv2D(64, (3, 3), padding='same'))\n",
    "model.add(Activation('relu'))\n",
    "\n",
    "model.add(MaxPooling2D(pool_size=(2, 2)))\n",
    "model.add(Dropout(0.2))\n",
    "model.add(BatchNormalization())\n",
    "\n",
    "#3rd convolutional layer\n",
    "model.add(Conv2D(128, (3, 3), padding='same'))\n",
    "model.add(Activation('relu'))\n",
    "model.add(Dropout(0.2))\n",
    "model.add(BatchNormalization())\n",
    "\n",
    "model.add(Flatten())\n",
    "model.add(Dropout(0.2))\n",
    "\n",
    "model.add(Dense(256, kernel_constraint=maxnorm(3)))\n",
    "model.add(Activation('relu'))\n",
    "model.add(Dropout(0.2))\n",
    "model.add(BatchNormalization())\n",
    "    \n",
    "model.add(Dense(128, kernel_constraint=maxnorm(3)))\n",
    "model.add(Activation('relu'))\n",
    "model.add(Dropout(0.2))\n",
    "model.add(BatchNormalization())\n",
    "\n",
    "#final layer should have as many neurons as there are classes. Since we have one class and it is regression problem so the value of final neuron will be between 0-99\n",
    "model.add(Dense(class_num))\n",
    "model.add(Activation('softmax'))\n",
    "\n",
    "epochs = 25\n",
    "optimizer = 'adam'\n",
    "\n",
    "model.compile(loss='categorical_crossentropy', optimizer=optimizer, metrics=['accuracy'])\n"
   ]
  },
  {
   "cell_type": "code",
   "execution_count": 5,
   "metadata": {},
   "outputs": [
    {
     "output_type": "stream",
     "name": "stdout",
     "text": "Model: \"sequential_1\"\n_________________________________________________________________\nLayer (type)                 Output Shape              Param #   \n=================================================================\nconv2d_1 (Conv2D)            (None, 3, 224, 224)       451808    \n_________________________________________________________________\ndropout_1 (Dropout)          (None, 3, 224, 224)       0         \n_________________________________________________________________\nbatch_normalization_1 (Batch (None, 3, 224, 224)       896       \n_________________________________________________________________\nconv2d_2 (Conv2D)            (None, 3, 224, 448)       903616    \n_________________________________________________________________\nactivation_1 (Activation)    (None, 3, 224, 448)       0         \n_________________________________________________________________\nmax_pooling2d_1 (MaxPooling2 (None, 1, 112, 448)       0         \n_________________________________________________________________\ndropout_2 (Dropout)          (None, 1, 112, 448)       0         \n_________________________________________________________________\nbatch_normalization_2 (Batch (None, 1, 112, 448)       1792      \n_________________________________________________________________\nconv2d_3 (Conv2D)            (None, 1, 112, 896)       3613568   \n_________________________________________________________________\nactivation_2 (Activation)    (None, 1, 112, 896)       0         \n_________________________________________________________________\ndropout_3 (Dropout)          (None, 1, 112, 896)       0         \n_________________________________________________________________\nbatch_normalization_3 (Batch (None, 1, 112, 896)       3584      \n_________________________________________________________________\nflatten_1 (Flatten)          (None, 100352)            0         \n_________________________________________________________________\ndropout_4 (Dropout)          (None, 100352)            0         \n_________________________________________________________________\ndense_1 (Dense)              (None, 1792)              179832576 \n_________________________________________________________________\nactivation_3 (Activation)    (None, 1792)              0         \n_________________________________________________________________\ndropout_5 (Dropout)          (None, 1792)              0         \n_________________________________________________________________\nbatch_normalization_4 (Batch (None, 1792)              7168      \n_________________________________________________________________\ndense_2 (Dense)              (None, 896)               1606528   \n_________________________________________________________________\nactivation_4 (Activation)    (None, 896)               0         \n_________________________________________________________________\ndropout_6 (Dropout)          (None, 896)               0         \n_________________________________________________________________\nbatch_normalization_5 (Batch (None, 896)               3584      \n_________________________________________________________________\ndense_3 (Dense)              (None, 1)                 897       \n_________________________________________________________________\nactivation_5 (Activation)    (None, 1)                 0         \n=================================================================\nTotal params: 186,426,017\nTrainable params: 186,417,505\nNon-trainable params: 8,512\n_________________________________________________________________\nNone\n"
    }
   ],
   "source": [
    "print(model.summary())"
   ]
  },
  {
   "cell_type": "code",
   "execution_count": 6,
   "metadata": {},
   "outputs": [
    {
     "output_type": "error",
     "ename": "NameError",
     "evalue": "name 'X_train' is not defined",
     "traceback": [
      "\u001b[0;31m---------------------------------------------------------------------------\u001b[0m",
      "\u001b[0;31mNameError\u001b[0m                                 Traceback (most recent call last)",
      "\u001b[0;32m<ipython-input-6-744566edc7db>\u001b[0m in \u001b[0;36m<module>\u001b[0;34m\u001b[0m\n\u001b[1;32m      1\u001b[0m \u001b[0mnumpy\u001b[0m\u001b[0;34m.\u001b[0m\u001b[0mrandom\u001b[0m\u001b[0;34m.\u001b[0m\u001b[0mseed\u001b[0m\u001b[0;34m(\u001b[0m\u001b[0;36m21\u001b[0m\u001b[0;34m)\u001b[0m\u001b[0;34m\u001b[0m\u001b[0;34m\u001b[0m\u001b[0m\n\u001b[0;32m----> 2\u001b[0;31m \u001b[0mmodel\u001b[0m\u001b[0;34m.\u001b[0m\u001b[0mfit\u001b[0m\u001b[0;34m(\u001b[0m\u001b[0mX_train\u001b[0m\u001b[0;34m,\u001b[0m \u001b[0my_train\u001b[0m\u001b[0;34m,\u001b[0m \u001b[0mvalidation_data\u001b[0m\u001b[0;34m=\u001b[0m\u001b[0;34m(\u001b[0m\u001b[0mX_test\u001b[0m\u001b[0;34m,\u001b[0m \u001b[0my_test\u001b[0m\u001b[0;34m)\u001b[0m\u001b[0;34m,\u001b[0m \u001b[0mepochs\u001b[0m\u001b[0;34m=\u001b[0m\u001b[0mepochs\u001b[0m\u001b[0;34m,\u001b[0m \u001b[0mbatch_size\u001b[0m\u001b[0;34m=\u001b[0m\u001b[0;36m64\u001b[0m\u001b[0;34m)\u001b[0m\u001b[0;34m\u001b[0m\u001b[0;34m\u001b[0m\u001b[0m\n\u001b[0m",
      "\u001b[0;31mNameError\u001b[0m: name 'X_train' is not defined"
     ]
    }
   ],
   "source": [
    "numpy.random.seed(21)\n",
    "model.fit(X_train, y_train, validation_data=(X_test, y_test), epochs=epochs, batch_size=64)"
   ]
  },
  {
   "cell_type": "code",
   "execution_count": null,
   "metadata": {},
   "outputs": [],
   "source": [
    "# Model evaluation\n",
    "scores = model.evaluate(X_test, y_test, verbose=0)\n",
    "print(\"Accuracy: %.2f%%\" % (scores[1]*100))"
   ]
  }
 ]
}