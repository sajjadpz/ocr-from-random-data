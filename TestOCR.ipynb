{
 "cells": [
  {
   "cell_type": "code",
   "execution_count": 8,
   "metadata": {
    "pycharm": {
     "is_executing": false
    }
   },
   "outputs": [],
   "source": [
    "import pytesseract\n",
    "import cv2\n",
    "import re"
   ]
  },
  {
   "cell_type": "code",
   "execution_count": 9,
   "metadata": {
    "pycharm": {
     "is_executing": false
    }
   },
   "outputs": [],
   "source": [
    "def ocr(img_path):\n",
    "    out_dir = \"ocr_results/\"\n",
    "    img = cv2.imread(img_path)\n",
    "    text = pytesseract.image_to_string(img,lang='eng',config='--psm 6')\n",
    "    print(text)\n",
    "    out_file = re.sub(\".jpg\",\".txt\",img_path.split(\"/\")[-1])\n",
    "    out_path = out_dir + out_file\n",
    "    fd = open(out_path,\"w\")\n",
    "    fd.write(\"%s\" %text)\n",
    "    return out_file"
   ]
  },
  {
   "cell_type": "code",
   "execution_count": 13,
   "metadata": {
    "pycharm": {
     "is_executing": false,
     "name": "#%%\n"
    }
   },
   "outputs": [
    {
     "name": "stdout",
     "output_type": "stream",
     "text": [
      "Ephthianura interagglutinating earock rosinate overlie\n"
     ]
    },
    {
     "data": {
      "text/plain": "'Ephthianura interagglutinating earock rosinate overlie_7.tsv'"
     },
     "execution_count": 13,
     "metadata": {},
     "output_type": "execute_result"
    }
   ],
   "source": [
    "ocr(\"/Users/sajjadpervaiz/git/open-source/ocr-from-random-data/out/Ephthianura interagglutinating earock rosinate overlie_7.jpg\")"
   ]
  },
  {
   "cell_type": "code",
   "execution_count": 3,
   "metadata": {
    "pycharm": {
     "is_executing": false
    }
   },
   "outputs": [
    {
     "name": "stdout",
     "output_type": "stream",
     "text": [
      "confidence: 90, text: Ephthianura interagglutinating earock rosinate overlie\n",
      "\n"
     ]
    }
   ],
   "source": [
    "from PIL import Image\n",
    "from tesserocr import PyTessBaseAPI, RIL\n",
    "\n",
    "image = Image.open('/Users/sajjadpervaiz/git/open-source/ocr-from-random-data/out/Ephthianura interagglutinating earock rosinate overlie_7.jpg')\n",
    "\n",
    "with PyTessBaseAPI() as api:\n",
    "    api.SetImage(image)\n",
    "    boxes = api.GetComponentImages(RIL.TEXTLINE, True)\n",
    "    for i, (im, box, _, _) in enumerate(boxes):\n",
    "        ocrResult = api.GetUTF8Text()\n",
    "        conf = api.MeanTextConf()\n",
    "        print(\"confidence: {1}, text: {2}\".format(i, conf, ocrResult))"
   ]
  },
  {
   "cell_type": "code",
   "execution_count": 7,
   "metadata": {
    "pycharm": {
     "is_executing": false
    }
   },
   "outputs": [
    {
     "name": "stdout",
     "output_type": "stream",
     "text": [
      "total images 10\n"
     ]
    }
   ],
   "source": [
    "import cv2\n",
    "import glob\n",
    "images = [cv2.imread(file) for file in glob.glob(\"/Users/sajjadpervaiz/git/open-source/ocr-from-random-data/out/*.jpg\")]\n",
    "print(\"total images\", len(images))"
   ]
  },
  {
   "cell_type": "markdown",
   "metadata": {
    "collapsed": false,
    "pycharm": {
     "is_executing": false,
     "name": "#%% md\n"
    }
   },
   "source": [
    "Experiment"
   ]
  },
  {
   "cell_type": "code",
   "execution_count": 51,
   "metadata": {},
   "outputs": [],
   "source": [
    "from tesserocr import PyTessBaseAPI, RIL\n",
    "import cv2\n",
    "import re\n",
    "import glob\n",
    "import csv\n",
    "from PIL import Image\n",
    "\n",
    "\n",
    "def runOCR(image_path):\n",
    "    image = Image.open(image_path)\n",
    "    api = PyTessBaseAPI()\n",
    "    api.SetImage(image)\n",
    "    ocrResult = api.GetUTF8Text()\n",
    "    conf = api.MeanTextConf()\n",
    "    with open('tessdata.csv', 'a', newline='') as file:\n",
    "        writer = csv.writer(file)\n",
    "        writer.writerow([image_path.split(\"/\")[-1], ocrResult, conf])\n",
    "        file.close()\n",
    "    return\n"
   ]
  },
  {
   "cell_type": "markdown",
   "metadata": {
    "collapsed": false,
    "pycharm": {
     "name": "#%% md\n"
    }
   },
   "source": [
    "Parallel Execution OCR"
   ]
  },
  {
   "cell_type": "code",
   "execution_count": 52,
   "metadata": {},
   "outputs": [
    {
     "name": "stdout",
     "output_type": "stream",
     "text": "te clay-colored_1040.jpg , None , ====> processed\nRichers rejoicing fattest_4089.jpg , None , ====> processed\ninterdepend thread-needle lehrs_139.jpg , None , ====> processed\nprize-taking prewrapping induviate_8699.jpg , None , ====> processed\nstenopaic_32.jpg , None , ====> processed\ndiscumb Boece legendarily_5489.jpg , None , ====> processed\ntoparch physicianless sludges_7555.jpg , None , ====> processed\nrattrap hemidactylous photogeny_844.jpg , None , ====> processed\nValry benzyls untrusting_9154.jpg , None , ====> processed\nconvention's_249.jpg , None , ====> processed\nununited counter-potent undiagramed_9008.jpg , None , ====> processed\nAtabalipa parachromophorous putridness_6487.jpg , None , ====> processed\nmitering stapelias paracaseinate_324.jpg , None , ====> processed\najar sinfonie Chaldaical_4563.jpg , None , ====> processed\nrimble-ramble_956.jpg , None , ====> processed\nhalloysite_2138.jpg , None , ====> processed\nbebog_70.jpg , None , ====> processed\nTewa blue-ribbon disalike_6371.jpg , None , ====> processed\ndifforme_771.jpg , None , ====> processed\nreconsidered pitying Menfro_7922.jpg , None , ====> processed\nkenspeck Kha roof-haunting_7616.jpg , None , ====> processed\nmyriad-leaves noncontributable gibbing_5678.jpg , None , ====> processed\ndialogged pantachromatic unobesely_7287.jpg , None , ====> processed\nE-chinocystis_664.jpg , None , ====> processed\niconoclastic pouce inadvisably_5684.jpg , None , ====> processed\naphasics_1071.jpg , None , ====> processed\npepping underfinancing unenchant_9391.jpg , None , ====> processed\ningurgitating lightfaced daturic_2429.jpg , None , ====> processed\nunbruised achromatophilia name-calling_3429.jpg , None , ====> processed\nsquaws Agar preloral_5981.jpg , None , ====> processed\nhaughtly kampylite Aguadulce_1008.jpg , None , ====> processed\nRicardo superobligation midified_3467.jpg , None , ====> processed\nangiotomy semimoist chondrioma_275.jpg , None , ====> processed\nsillabub triumvir Brazil-nut_7196.jpg , None , ====> processed\nsmall-letter unbid thanatosis_622.jpg , None , ====> processed\nunwinning cooeed politicians_2880.jpg , None , ====> processed\nphobophobia_448.jpg , None , ====> processed\nsnatchier taximetered nondiaphanousness_2575.jpg , None , ====> processed\nlabouress beaugregory flatlet_3229.jpg , None , ====> processed\nempennage pretorium Forestian_8276.jpg , None , ====> processed\nHela fernticle undoubtably_7737.jpg , None , ====> processed\nMickelson considerateness carrotiest_8146.jpg , None , ====> processed\ncoel- ungetable render_2853.jpg , None , ====> processed\nametropia B.P. molluscivorous_1108.jpg , None , ====> processed\nRichfield_1307.jpg , None , ====> processed\nSebastien moonfall Donnell_872.jpg , None , ====> processed\nGerrilee_2953.jpg , None , ====> processed\nnonhereditable aready limpas_9132.jpg , None , ====> processed\nrattooned semipronation unthoughted_9609.jpg , None , ====> processed\nhearkens talkable orchioneuralgia_3585.jpg , None , ====> processed\nproteosuria nonsubordination well-displayed_1096.jpg , None , ====> processed\nsubglobular moneychanger branchiform_205.jpg , None , ====> processed\nall-purpose self-realizationism can-seaming_2162.jpg , None , ====> processed\nhonourably outfit upburst_7299.jpg , None , ====> processed\nOwyhee gramicidin rasures_8064.jpg , None , ====> processed\nDictyonina fluxroot synergize_4456.jpg , None , ====> processed\nBruns backgeared oinking_4952.jpg , None , ====> processed\nsaplessness tubings LERC_568.jpg , None , ====> processed\nRandal_717.jpg , None , ====> processed\nbilgeway Hartselle polyscope_5523.jpg , None , ====> processed\nmethodologies_15.jpg , None , ====> processed\nwell-handled fish-skin pastorised_7049.jpg , None , ====> processed\nstagnatory transmigrated cursitate_5277.jpg , None , ====> processed\nquasi-civilly gregaloid triumviral_7254.jpg , None , ====> processed\nKhoja Cibis latrobite_24.jpg , None , ====> processed\nhindquarter microburner corpulency_2189.jpg , None , ====> processed\nbenzopyrene accurateness shipentine_4542.jpg , None , ====> processed\nchitarroni A.B. Hemans_8906.jpg , None , ====> processed\nverticalness deconcentration define_9522.jpg , None , ====> processed\nwoodoo listerioses arthrocace_5500.jpg , None , ====> processed\nCineraria asymtote Jerrylee_9826.jpg , None , ====> processed\nHindu-javan needgates granado_6730.jpg , None , ====> processed\nmicrogroove soapwood biocycle_825.jpg , None , ====> processed\nHiawassee kagu entireties_3807.jpg , None , ====> processed\nrollway endamageable unsuit_6965.jpg , None , ====> processed\nwell-lent_2582.jpg , None , ====> processed\nyellow-bark rivalship neck-breaking_280.jpg , None , ====> processed\nnonstatistically chlorocalcite Huttonianism_6166.jpg , None , ====> processed\ncomfier starlitten curialism_5537.jpg , None , ====> processed\nlation Topsham psychoanalyse_1913.jpg , None , ====> processed\nmisbede unantagonising hotelier_8887.jpg , None , ====> processed\nmaletote Pembrook subtaxon_29.jpg , None , ====> processed\njitneys unwild acaricide_6014.jpg , None , ====> processed\npardons cock-eye medifixed_350.jpg , None , ====> processed\nSamul airbrushes teraph_772.jpg , None , ====> processed\nsolutional unhidated hypoproteinemia_3133.jpg , None , ====> processed\napothecial octavic lordliest_3988.jpg , None , ====> processed\nlorica helbeh beforementioned_8815.jpg , None , ====> processed\ngridded peruser satyagrahi_2822.jpg , None , ====> processed\nremultiplying platooning tracheal_1732.jpg , None , ====> processed\nhoudahs topaz-yellow crisped_237.jpg , None , ====> processed\nbeezers_1945.jpg , None , ====> processed\nmwalimu quadle decontrolling_2390.jpg , None , ====> processed\nnoncoalescent tufting violet-sweet_2062.jpg , None , ====> processed\nbeanstalks retroflexed applicabilities_94.jpg , None , ====> processed\nunseduceability slows linksmen_5883.jpg , None , ====> processed\nbuicks hortatively metria_6387.jpg , None , ====> processed\nsubpatellar subtrihedral autocratic_997.jpg , None , ====> processed\nasseth takeouts sutural_817.jpg , None , ====> processed\nPitatus_1074.jpg , None , ====> processed\npretone Ordovices reboke_834.jpg , None , ====> processed\nMSCE Borinqueno legislators_1137.jpg , None , ====> processed\ntrampler seditionist coatimundi_1529.jpg , None , ====> processed\nsquealers absurd lactocele_6746.jpg , None , ====> processed\nanacolutha inventresses virtuosos_3651.jpg , None , ====> processed\nworld-horrifying_2317.jpg , None , ====> processed\nduffies entocondyloid diplomate_7756.jpg , None , ====> processed\nmannan_266.jpg , None , ====> processed\nhorkey jimsonweed Idoux_3403.jpg , None , ====> processed\nmachzors harre overrent_6691.jpg , None , ====> processed\nfornications Lyallpur convulsionism_640.jpg , None , ====> processed\nalkalin interdivision teloblastic_8367.jpg , None , ====> processed\ndisceptation laur after-game_9558.jpg , None , ====> processed\npostinaugural ungassed fise_7578.jpg , None , ====> processed\nepithalamus_1187.jpg , None , ====> processed\nnonabrogable tachypnea green-embroidered_7880.jpg , None , ====> processed\nBrachycera reconvenes Palacios_1127.jpg , None , ====> processed\nmenisciform stilbene infestive_5356.jpg , None , ====> processed\npalestras cystourethrography crowtoe_3472.jpg , None , ====> processed\nhymeno-_255.jpg , None , ====> processed\nfrillings_2989.jpg , None , ====> processed\nsuras Gibraltar outsat_5068.jpg , None , ====> processed\nMerise_2433.jpg , None , ====> processed\nelectroanesthesia clamjamphrie splanchnopathy_454.jpg , None , ====> processed\nglassmen unvisually uninstalled_7716.jpg , None , ====> processed\nprolific_522.jpg , None , ====> processed\npalaeontologies_1199.jpg , None , ====> processed\nConesville unchurchly bocca_5622.jpg , None , ====> processed\ncavernal crook-backed Erysiphaceae_8542.jpg , None , ====> processed\nquasi-experienced_540.jpg , None , ====> processed\nwonderless hornpout unbeguiling_6542.jpg , None , ====> processed\nmuggur oophorectomized Lorenzana_294.jpg , None , ====> processed\nSeptuagint civilite beclogged_9407.jpg , None , ====> processed\nsmooth-necked_304.jpg , None , ====> processed\nspacetime provenly perlites_5601.jpg , None , ====> processed\nmasslessness quasi-biographically kitambilla_1634.jpg , None , ====> processed\nwrappage fibrosity funipendulous_8653.jpg , None , ====> processed\nCOAM quartzoid anaerobes_5610.jpg , None , ====> processed\nscandalisation_30.jpg , None , ====> processed\nknapscull_1323.jpg , None , ====> processed\narsenolite countervene googolplex_6187.jpg , None , ====> processed\nSais_2251.jpg , None , ====> processed\nesculent_53.jpg , None , ====> processed\nMattie parasiticus invariable_51.jpg , None , ====> processed\nretranscription sponges lanch_7156.jpg , None , ====> processed\nhemocytoblast auxiliary Clydebank_2323.jpg , None , ====> processed\ndissatisfaction_2791.jpg , None , ====> processed\nharang raffia Ninnette_2669.jpg , None , ====> processed\nProfilometer Indre-et-Loire estuarial_8158.jpg , None , ====> processed\nAnti-bohemian actinost stalemates_3661.jpg , None , ====> processed\nvaridical_1731.jpg , None , ====> processed\ncock-fighting Liod compensation_2255.jpg , None , ====> processed\nthree-corneredness whistlers uglifier_234.jpg , None , ====> processed\novules glean Piura_2450.jpg , None , ====> processed\nraggedy courche parallactical_3139.jpg , None , ====> processed\ndiscigerous Himelman deanthropomorphism_482.jpg , None , ====> processed\nbioluminescence include paper-selling_4095.jpg , None , ====> processed\nblobbiness hemodrometry unaxised_2994.jpg , None , ====> processed\nunconscienced_1729.jpg , None , ====> processed\nMagel connexure chinching_4995.jpg , None , ====> processed\nrevaccinates_31.jpg , None , ====> processed\nelectros yellow-tufted haemophilia_4269.jpg , None , ====> processed\nbraves niddy-noddy Beisel_6349.jpg , None , ====> processed\nopiomaniac rephrased Hourigan_9340.jpg , None , ====> processed\nsyndesmoses_2373.jpg , None , ====> processed\npromote tenderer juck_5064.jpg , None , ====> processed\nosamin suasively granite-sprinkled_272.jpg , None , ====> processed\ntwice-perused Christadelphianism gate-crash_5903.jpg , None , ====> processed\nun-numbed shufflecap stoplessness_8573.jpg , None , ====> processed\nhexametral cirrhoses woolert_6619.jpg , None , ====> processed\nrattleroot_2.jpg , None , ====> processed\nreindifferent nashgab Aetolian_2874.jpg , None , ====> processed\ncowsucker seventy-mile mangelin_3921.jpg , None , ====> processed\ntoucher soulward voyeurism_8432.jpg , None , ====> processed\nnimble_2968.jpg , None , ====> processed\nhubnerite lepidodendroid hibla_2843.jpg , None , ====> processed\nPseudo-socratic musics overfellowly_7812.jpg , None , ====> processed\nquadricotyledonous Lebam korntunnur_8934.jpg , None , ====> processed\nmurkness yucks nid_499.jpg , None , ====> processed\nprincessdom_1445.jpg , None , ====> processed\nunferried Tanacetum outsum_9422.jpg , None , ====> processed\ndiamond-bright Den maschera_2727.jpg , None , ====> processed\ngarotte unforgivable interscription_6505.jpg , None , ====> processed\nreapprehension everywheres chilacayote_5391.jpg , None , ====> processed\nuntechnicalize calzone pleurothotonos_9813.jpg , None , ====> processed\ntrihemiobolion_2527.jpg , None , ====> processed\ndecontaminative Oliverian Rechabitism_496.jpg , None , ====> processed\nlepre_2824.jpg , None , ====> processed\nUPDS_2481.jpg , None , ====> processed\nzabajones underdrawers Manhattanize_1145.jpg , None , ====> processed\nendpoint storymonger sluig_2668.jpg , None , ====> processed\nEisen SDR tulisan_9351.jpg , None , ====> processed\narclength Derounian vagabondized_875.jpg , None , ====> processed\nGoth matriculae Roccella_8274.jpg , None , ====> processed\nDemona Chibcha grassers_6963.jpg , None , ====> processed\nmankin_1835.jpg , None , ====> processed\nsquare-headed Tecu prayerfulness_8877.jpg , None , ====> processed\nchromogen sparerib Javed_1554.jpg , None , ====> processed\nendopeptidase relap sphenomaxillary_6886.jpg , None , ====> processed\nAnna-Diane_91.jpg , None , ====> processed\nthirst-scorched_1207.jpg , None , ====> processed\nstewable Breaks nectarlike_303.jpg , None , ====> processed\nsalaams unsterilized drooping_3401.jpg , None , ====> processed\nchoel seldomness burgall_4157.jpg , None , ====> processed\nnonsedentarily fumidity backslapped_413.jpg , None , ====> processed\nfoamiest Marxianism parine_7928.jpg , None , ====> processed\nskewbald maculated Yuga_5914.jpg , None , ====> processed\npantries relocatability adjunctive_162.jpg , None , ====> processed\nredoubt toyed tractellum_245.jpg , None , ====> processed\nForsythia gains aceae_9143.jpg , None , ====> processed\ndaduchus_1590.jpg , None , ====> processed\nangularly escaloping collagenase_136.jpg , None , ====> processed\nwise-lipped Narton gymnurine_7205.jpg , None , ====> processed\ntribute's_642.jpg , None , ====> processed\nerodible_2376.jpg , None , ====> processed\nKilmarnock_202.jpg , None , ====> processed\nCalumet scenographic Sekane_7113.jpg , None , ====> processed\nReiners seditious quizzicalness_5671.jpg , None , ====> processed\nbskt_501.jpg , None , ====> processed\nChing unsated Dorkus_1730.jpg , None , ====> processed\npolyol cenogenetic Algonquins_4815.jpg , None , ====> processed\nskatiku bustle unchaffed_1816.jpg , None , ====> processed\ngisants Cara paleontologists_2167.jpg , None , ====> processed\noutpour hipmold liberated_7835.jpg , None , ====> processed\nBeason re-lay gastrilegous_6809.jpg , None , ====> processed\nnonblasphemy_2514.jpg , None , ====> processed\nmuscaris_2895.jpg , None , ====> processed\nhilus displeasurement UCL_8263.jpg , None , ====> processed\nStephanus ammine preconceive_6041.jpg , None , ====> processed\nrackrentable shakings apogalacteum_8599.jpg , None , ====> processed\nTateville_2536.jpg , None , ====> processed\nself-stowing overbore Hahn_636.jpg , None , ====> processed\niridencleisis_639.jpg , None , ====> processed\nbowlder flection divisibility_7270.jpg , None , ====> processed\ndocentship prosemination joisting_8778.jpg , None , ====> processed\ncamises_618.jpg , None , ====> processed\ntosspots_428.jpg , None , ====> processed\npunctureless_1378.jpg , None , ====> processed\nterminal's_339.jpg , None , ====> processed\nCorrado_1877.jpg , None , ====> processed\nredischarging magazinelet puerperium_7195.jpg , None , ====> processed\nnonrefutal bassinet semiarchitecturally_8760.jpg , None , ====> processed\nlancemen crojik s's_3537.jpg , None , ====> processed\nOstler limbal winter-withered_6148.jpg , None , ====> processed\ninduce AXAF kerat-_7414.jpg , None , ====> processed\nscapha re-expectation animine_703.jpg , None , ====> processed\noverinstruction factions unassigned_5749.jpg , None , ====> processed\namphilogism preferentially exsuction_549.jpg , None , ====> processed\nglossarize gold-clasped blockboard_4154.jpg , None , ====> processed\nclodpole catchalls Zerubbabel_2953.jpg , None , ====> processed\nducking-stool hyssop afret_901.jpg , None , ====> processed\nlinewalker shiftfulness whatnots_346.jpg , None , ====> processed\nsawback drawing-knife leaf-climber_1561.jpg , None , ====> processed\ndogie uncoaxing cuttle-bone_24.jpg , None , ====> processed\nripple androgynus cushiness_5820.jpg , None , ====> processed\npleuropericardial bleakness impediment_9996.jpg , None , ====> processed\ncarburizer etherialization exanimate_5298.jpg , None , ====> processed\nHoskins Dominican SLIM_891.jpg , None , ====> processed\nKaralee_265.jpg , None , ====> processed\ngroundwater disorchard will-fraught_4473.jpg , None , ====> processed\nentombed agilities nonimbricated_7653.jpg , None , ====> processed\nAvanti Manichaeanism azoxy_7933.jpg , None , ====> processed\never-recurring_1986.jpg , None , ====> processed\nstraddling untransmissive seahound_372.jpg , None , ====> processed\nPamiri thrombectomies salpingoscope_153.jpg , None , ====> processed\ncotton-spinning unstaggering prisage_764.jpg , None , ====> processed\nGood renovare gold-hilted_7493.jpg , None , ====> processed\nwhelkier pollbook Opheim_579.jpg , None , ====> processed\nspurns Rambo Himrod_3925.jpg , None , ====> processed\nwater-gruellish nonpalpability pirandellian_5560.jpg , None , ====> processed\nefficiently rock-encumbered half-quixotic_8277.jpg , None , ====> processed\ncasha unamenably ninnywatch_3182.jpg , None , ====> processed\nunhypothetical enamdar ferrymen_9541.jpg , None , ====> processed\nAcolhua_521.jpg , None , ====> processed\nsubjectivist galeproof Sixtine_9743.jpg , None , ====> processed\nloreal skioring hormos_8838.jpg , None , ====> processed\nKnut_1918.jpg , None , ====> processed\nevangelistically V-eight avichi_3634.jpg , None , ====> processed\nnovel_109.jpg , None , ====> processed\ninch-high delicates Lavandula_9980.jpg , None , ====> processed\nmethylate Jalapa backfilled_2523.jpg , None , ====> processed\nmidmonthly_2344.jpg , None , ====> processed\nhexachloride consortiums phosphinic_3648.jpg , None , ====> processed\nsoft-solder_56.jpg , None , ====> processed\nchieve_677.jpg , None , ====> processed\narchaeus dammaret oecophobia_1278.jpg , None , ====> processed\nuninertly supero-occipital madhab_8092.jpg , None , ====> processed\nFalls_1320.jpg , None , ====> processed\nsetter-in_1621.jpg , None , ====> processed\nacquiescer crenulate hyperphysics_92.jpg , None , ====> processed\nTarazed flower-of-Jove Wheeler_4878.jpg , None , ====> processed\ntee-bulb interlopes groundsel_3049.jpg , None , ====> processed\nunsteaming precipitately malaria_1041.jpg , None , ====> processed\nThisbee mobsmen outswell_3430.jpg , None , ====> processed\nsquinters hymnograher kadine_3225.jpg , None , ====> processed\nungorgeous_16.jpg , None , ====> processed\ndim-lettered thesmothetae allodialism_1525.jpg , None , ====> processed\nhorseplayers_198.jpg , None , ====> processed\nLibreville insulize Lenzburg_9313.jpg , None , ====> processed\nBeitnes stigmatize nonconcentrated_7213.jpg , None , ====> processed\ndetainees rehearsable wig's_2354.jpg , None , ====> processed\nlionesque_94.jpg , None , ====> processed\ncutesy self-colour Quartodeciman_4771.jpg , None , ====> processed\nMacksinn dhaman Sunderland_2563.jpg , None , ====> processed\nplumelike_939.jpg , None , ====> processed\nyellow-speckled pilocarpin frameless_4809.jpg , None , ====> processed\nheptachord twice-preferred politico-scientific_6142.jpg , None , ====> processed\noverembroider mirthsomeness open-shelf_4155.jpg , None , ====> processed\nnerolis undrawn Jezabelle_9455.jpg , None , ====> processed\nungainlier Ellisburg preagricultural_3013.jpg , None , ====> processed\nradek_966.jpg , None , ====> processed\nintroduction's rarebit rain-fraught_3609.jpg , None , ====> processed\nmelancholiously_1330.jpg , None , ====> processed\npoliticked roomward top-shell_3109.jpg , None , ====> processed\nspeared extraversions Pseudo-norwegian_2661.jpg , None , ====> processed\nmanifolds Bodwell Sillsby_282.jpg , None , ====> processed\nunbankableness cherubin globously_5777.jpg , None , ====> processed\nopticly untraveling novemnervate_6464.jpg , None , ====> processed\nself-idolatry cambiogenetic petitionproof_906.jpg , None , ====> processed\nexaggerates unpardoned sullen-browed_358.jpg , None , ====> processed\naviatrixes dentilingual overcheapness_1092.jpg , None , ====> processed\nmetrician unappreciating clubland_4554.jpg , None , ====> processed\nobsoleted verseless pistils_977.jpg , None , ====> processed\nactability_2623.jpg , None , ====> processed\ncentigramme incrassate fuddy-duddies_2487.jpg , None , ====> processed\nUniversalistic subschema's nonrecuperativeness_5155.jpg , None , ====> processed\nTimoshenko evictors nidamental_6831.jpg , None , ====> processed\nforeplace whinchacker sulphur-smoking_9426.jpg , None , ====> processed\nmisencourage blackcock bossies_7210.jpg , None , ====> processed\nparrot-fashion splanchnocoele bloodhounds_3086.jpg , None , ====> processed\nprotractedness_2046.jpg , None , ====> processed\nporodite outdid ascitical_8847.jpg , None , ====> processed\n2539.296136856079\n"
    }
   ],
   "source": [
    "import os\n",
    "import glob\n",
    "import concurrent.futures\n",
    "import time\n",
    "\n",
    "##Should be 15000 images = (10000: normal random images, 1000: with randon distortion, 3000 with random skew and guassian blur of 1, 1000 with random skew)\n",
    "\n",
    "os.environ['OMP_THREAD_LIMIT'] = '1'\n",
    "def main():\n",
    "        out_dir = \"ocr_results/\"\n",
    "        if not os.path.exists(out_dir):\n",
    "            os.makedirs(out_dir)\n",
    " \n",
    "        with concurrent.futures.ProcessPoolExecutor(max_workers=4) as executor:\n",
    "            image_list = glob.glob(\"/Users/sajjadpervaiz/git/open-source/ocr-from-random-data/out/*.jpg\")\n",
    "            print(\"Total images: \", len(image_list)) \n",
    "            for img_path,out_file in zip(image_list,executor.map(runOCR,image_list)):\n",
    "                print(img_path.split(\"/\")[-1],',',out_file,', ====> processed')\n",
    " \n",
    "if __name__ == '__main__':\n",
    "    start = time.time()\n",
    "    main()\n",
    "    end = time.time()\n",
    "    print(end-start)\n",
    "\n"
   ]
  },
  {
   "cell_type": "code",
   "execution_count": 55,
   "metadata": {},
   "outputs": [
    {
     "name": "stdout",
     "output_type": "stream",
     "text": "1584462277.24478\n"
    }
   ],
   "source": [
    " print(time.time())"
   ]
  },
  {
   "cell_type": "code",
   "execution_count": 55,
   "metadata": {},
   "outputs": [],
   "source": [
    "\n"
   ]
  },
  {
   "cell_type": "code",
   "execution_count": null,
   "metadata": {},
   "outputs": [],
   "source": []
  }
 ],
 "metadata": {
  "kernelspec": {
   "display_name": "Python 3.7.6 64-bit ('testocr': conda)",
   "language": "python",
   "name": "python37664bittestocrcondae20463e6e51e433db8421d10d87f6ccf"
  },
  "language_info": {
   "codemirror_mode": {
    "name": "ipython",
    "version": 3
   },
   "file_extension": ".py",
   "mimetype": "text/x-python",
   "name": "python",
   "nbconvert_exporter": "python",
   "pygments_lexer": "ipython3",
   "version": "3.7.4-final"
  },
  "pycharm": {
   "stem_cell": {
    "cell_type": "raw",
    "source": [],
    "metadata": {
     "collapsed": false
    }
   }
  }
 },
 "nbformat": 4,
 "nbformat_minor": 4
}